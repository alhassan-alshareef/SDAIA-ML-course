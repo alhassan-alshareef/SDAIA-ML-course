{
  "nbformat": 4,
  "nbformat_minor": 0,
  "metadata": {
    "kernelspec": {
      "display_name": "Python 3",
      "language": "python",
      "name": "python3"
    },
    "language_info": {
      "codemirror_mode": {
        "name": "ipython",
        "version": 3
      },
      "file_extension": ".py",
      "mimetype": "text/x-python",
      "name": "python",
      "nbconvert_exporter": "python",
      "pygments_lexer": "ipython3",
      "version": "3.7.0"
    },
    "colab": {
      "provenance": [],
      "toc_visible": true,
      "include_colab_link": true
    }
  },
  "cells": [
    {
      "cell_type": "markdown",
      "metadata": {
        "id": "view-in-github",
        "colab_type": "text"
      },
      "source": [
        "<a href=\"https://colab.research.google.com/github/alhassan-alshareef/SDAIA-ML-course/blob/main/Alhassan_Alshareef_Assignment1.ipynb\" target=\"_parent\"><img src=\"https://colab.research.google.com/assets/colab-badge.svg\" alt=\"Open In Colab\"/></a>"
      ]
    },
    {
      "cell_type": "markdown",
      "metadata": {
        "id": "lAF4GfsbNi1m"
      },
      "source": [
        "# Hotel Booking Data\n",
        "\n",
        "\n",
        "---\n",
        "**Objective:**\n",
        "\n",
        "In this notebook, we are going to create some visualizations to better explore our dataset and clean it as a next step.\n",
        "\n",
        "## Dataset Explanation\n",
        "- **hotelHotel:** (H1 = Resort Hotel or H2 = City Hotel)\n",
        "- **is_canceled:** Value indicating if the booking was canceled (1) or not (0)\n",
        "- **lead_time:** Number of days that elapsed between the entering date of the booking into the PMS and the arrival date\n",
        "- **arrival_date_year:** Year of arrival date\n",
        "- **arrival_date_month:** Month of arrival date\n",
        "- **arrival_date_week_number:** Week number of year for arrival date\n",
        "- **arrival_date_day_of_month:** Day of arrival date\n",
        "- **stays_in_weekend_nights:** Number of weekend nights (Saturday or Sunday) the guest stayed or booked to stay at the hotel\n",
        "- **stays_in_week_nights:** Number of week nights (Monday to Friday) the guest stayed or booked to stay at the hotel\n",
        "- **adults:** Number of adults\n",
        "- **children:** Number of children\n",
        "- **babies:** Number of babies\n",
        "- **meal:** Type of meal booked. Categories are presented in standard hospitality meal packages: Undefined/SC – no meal package; BB – Bed & Breakfast; HB – Half board (breakfast and one other meal – usually dinner); FB – Full board (breakfast, lunch and dinner)\n",
        "- **country:** Country of origin. Categories are represented in the ISO 3155–3:2013 format\n",
        "- **market_segment:** Market segment designation. In categories, the term “TA” means “Travel Agents” and “TO” means “Tour Operators”\n",
        "- **distribution_channel:** Booking distribution channel. The term “TA” means “Travel Agents” and “TO” means “Tour Operators”\n",
        "- **is_repeated_gues:t** Value indicating if the booking name was from a repeated guest (1) or not (0)\n",
        "- **previous_cancellations:**  Number of previous bookings that were cancelled by the customer prior to the current booking\n",
        "- **previous_bookings_not_canceled:** Number of previous bookings not cancelled by the customer prior to the current booking\n",
        "- **reserved_room_type:** Code of room type reserved. Code is presented instead of designation for anonymity reasons.\n",
        "- **assigned_room_type:** Code for the type of room assigned to the booking. Sometimes the assigned room type differs from the reserved room type due to hotel operation reasons (e.g. overbooking) or by customer request. Code is presented instead of designation for anonymity reasons.\n",
        "- **booking_changes:**  Number of changes/amendments made to the booking from the moment the booking was entered on the PMS until the moment of check-in or cancellation\n",
        "- **deposit_type:** Indication on if the customer made a deposit to guarantee the booking. This variable can assume three categories: No Deposit – no deposit was made; Non Refund – a deposit was made in the value of the total stay cost; Refundable – a deposit was made with a value under the total cost of stay.\n",
        "- **agent:** ID of the travel agency that made the booking\n",
        "- **company:** ID of the company/entity that made the booking or responsible for paying the booking. ID is presented instead of designation for anonymity reasons\n",
        "- **days_in_waiting_list:** Number of days the booking was in the waiting list before it was confirmed to the customer\n",
        "- **customer_type:** Type of booking, assuming one of four categories: Contract - when the booking has an allotment or other type of contract associated to it; Group – when the booking is associated to a group; Transient – when the booking is not part of a group or contract, and is not associated to other transient booking; Transient-party – when the booking is transient, but is associated to at least other transient booking\n",
        "- **adr:** Average Daily Rate as defined by dividing the sum of all lodging transactions by the total number of staying nights\n",
        "- **required_car_parking_spaces:** Number of car parking spaces required by the customer\n",
        "- **total_of_special_requests:** Number of special requests made by the customer (e.g. twin bed or high floor)\n",
        "- **reservation_status:** Reservation last status, assuming one of three categories: Canceled – booking was canceled by the customer; Check-Out – customer has checked in but already departed; No-Show – customer did not check-in and did inform the hotel of the reason why\n",
        "- **reservation_status_date:** Date at which the last status was set. This variable can be used in conjunction with the Reservation Status to understand when was the booking canceled or when did the customer checked-out of the hotel"
      ]
    },
    {
      "cell_type": "markdown",
      "metadata": {
        "id": "CeNQp4N2Ni1y"
      },
      "source": [
        "# Import Libraries"
      ]
    },
    {
      "cell_type": "code",
      "metadata": {
        "id": "wD4a1PLmNi1z"
      },
      "source": [
        "import pandas as pd\n",
        "import numpy as np\n",
        "import matplotlib.pyplot as plt"
      ],
      "execution_count": null,
      "outputs": []
    },
    {
      "cell_type": "markdown",
      "metadata": {
        "id": "nOKlj2e4Ni11"
      },
      "source": [
        "# Load Dataset"
      ]
    },
    {
      "cell_type": "markdown",
      "metadata": {
        "id": "Q_HBhm5w7zv4"
      },
      "source": [
        "After you download the **hotel_bookings.csv** dataset file, upload it to your runtime so you can work with it."
      ]
    },
    {
      "cell_type": "code",
      "metadata": {
        "id": "xySm4OVyNi11"
      },
      "source": [
        "df = pd.read_csv('/content/hotel_bookings.csv')\n",
        "\n"
      ],
      "execution_count": null,
      "outputs": []
    },
    {
      "cell_type": "markdown",
      "metadata": {
        "id": "mLfkKUmQNi13"
      },
      "source": [
        "# 1. Exploring your data / Diagnosis phase"
      ]
    },
    {
      "cell_type": "markdown",
      "metadata": {
        "id": "4rKJxGj0Ni15"
      },
      "source": [
        "## 1.1 Question 1: Diagnose data for cleaning"
      ]
    },
    {
      "cell_type": "markdown",
      "metadata": {
        "id": "BtV9JXgVNi15"
      },
      "source": [
        "When you get a new DataFrame to work with, the first thing you need to do is explore it and see what it contains. There are several useful methods and attributes for this.\n",
        "\n",
        "- .head() returns the first few rows (the “head” of the DataFrame).\n",
        "- .tail() returns the first few rows (the “tail” of the DataFrame).\n",
        "- .info() shows information on each of the columns, such as the data type and number of missing values.\n",
        "- .shape returns the number of rows and columns of the DataFrame.\n",
        "- .columns: An index of columns: the column names.\n"
      ]
    },
    {
      "cell_type": "code",
      "metadata": {
        "id": "SUqLn9usNi16",
        "colab": {
          "base_uri": "https://localhost:8080/",
          "height": 342
        },
        "outputId": "783be47a-7059-4b3e-a704-732cf7e8bbba"
      },
      "source": [
        "df.head()\n"
      ],
      "execution_count": null,
      "outputs": [
        {
          "output_type": "execute_result",
          "data": {
            "text/plain": [
              "          hotel  is_canceled  lead_time  arrival_date_year arrival_date_month  \\\n",
              "0  Resort Hotel            0        342               2015               July   \n",
              "1  Resort Hotel            0        737               2015               July   \n",
              "2  Resort Hotel            0          7               2015               July   \n",
              "3  Resort Hotel            0         13               2015               July   \n",
              "4  Resort Hotel            0         14               2015               July   \n",
              "\n",
              "   arrival_date_week_number  arrival_date_day_of_month  \\\n",
              "0                        27                          1   \n",
              "1                        27                          1   \n",
              "2                        27                          1   \n",
              "3                        27                          1   \n",
              "4                        27                          1   \n",
              "\n",
              "   stays_in_weekend_nights  stays_in_week_nights  adults  ...  deposit_type  \\\n",
              "0                        0                     0       2  ...    No Deposit   \n",
              "1                        0                     0       2  ...    No Deposit   \n",
              "2                        0                     1       1  ...    No Deposit   \n",
              "3                        0                     1       1  ...    No Deposit   \n",
              "4                        0                     2       2  ...    No Deposit   \n",
              "\n",
              "   agent company days_in_waiting_list customer_type   adr  \\\n",
              "0    NaN     NaN                    0     Transient   0.0   \n",
              "1    NaN     NaN                    0     Transient   0.0   \n",
              "2    NaN     NaN                    0     Transient  75.0   \n",
              "3  304.0     NaN                    0     Transient  75.0   \n",
              "4  240.0     NaN                    0     Transient  98.0   \n",
              "\n",
              "   required_car_parking_spaces  total_of_special_requests  reservation_status  \\\n",
              "0                            0                          0           Check-Out   \n",
              "1                            0                          0           Check-Out   \n",
              "2                            0                          0           Check-Out   \n",
              "3                            0                          0           Check-Out   \n",
              "4                            0                          1           Check-Out   \n",
              "\n",
              "  reservation_status_date  \n",
              "0              2015-07-01  \n",
              "1              2015-07-01  \n",
              "2              2015-07-02  \n",
              "3              2015-07-02  \n",
              "4              2015-07-03  \n",
              "\n",
              "[5 rows x 32 columns]"
            ],
            "text/html": [
              "\n",
              "  <div id=\"df-b06b4a05-4b5a-4f7e-b1e2-50ecac0f5afb\" class=\"colab-df-container\">\n",
              "    <div>\n",
              "<style scoped>\n",
              "    .dataframe tbody tr th:only-of-type {\n",
              "        vertical-align: middle;\n",
              "    }\n",
              "\n",
              "    .dataframe tbody tr th {\n",
              "        vertical-align: top;\n",
              "    }\n",
              "\n",
              "    .dataframe thead th {\n",
              "        text-align: right;\n",
              "    }\n",
              "</style>\n",
              "<table border=\"1\" class=\"dataframe\">\n",
              "  <thead>\n",
              "    <tr style=\"text-align: right;\">\n",
              "      <th></th>\n",
              "      <th>hotel</th>\n",
              "      <th>is_canceled</th>\n",
              "      <th>lead_time</th>\n",
              "      <th>arrival_date_year</th>\n",
              "      <th>arrival_date_month</th>\n",
              "      <th>arrival_date_week_number</th>\n",
              "      <th>arrival_date_day_of_month</th>\n",
              "      <th>stays_in_weekend_nights</th>\n",
              "      <th>stays_in_week_nights</th>\n",
              "      <th>adults</th>\n",
              "      <th>...</th>\n",
              "      <th>deposit_type</th>\n",
              "      <th>agent</th>\n",
              "      <th>company</th>\n",
              "      <th>days_in_waiting_list</th>\n",
              "      <th>customer_type</th>\n",
              "      <th>adr</th>\n",
              "      <th>required_car_parking_spaces</th>\n",
              "      <th>total_of_special_requests</th>\n",
              "      <th>reservation_status</th>\n",
              "      <th>reservation_status_date</th>\n",
              "    </tr>\n",
              "  </thead>\n",
              "  <tbody>\n",
              "    <tr>\n",
              "      <th>0</th>\n",
              "      <td>Resort Hotel</td>\n",
              "      <td>0</td>\n",
              "      <td>342</td>\n",
              "      <td>2015</td>\n",
              "      <td>July</td>\n",
              "      <td>27</td>\n",
              "      <td>1</td>\n",
              "      <td>0</td>\n",
              "      <td>0</td>\n",
              "      <td>2</td>\n",
              "      <td>...</td>\n",
              "      <td>No Deposit</td>\n",
              "      <td>NaN</td>\n",
              "      <td>NaN</td>\n",
              "      <td>0</td>\n",
              "      <td>Transient</td>\n",
              "      <td>0.0</td>\n",
              "      <td>0</td>\n",
              "      <td>0</td>\n",
              "      <td>Check-Out</td>\n",
              "      <td>2015-07-01</td>\n",
              "    </tr>\n",
              "    <tr>\n",
              "      <th>1</th>\n",
              "      <td>Resort Hotel</td>\n",
              "      <td>0</td>\n",
              "      <td>737</td>\n",
              "      <td>2015</td>\n",
              "      <td>July</td>\n",
              "      <td>27</td>\n",
              "      <td>1</td>\n",
              "      <td>0</td>\n",
              "      <td>0</td>\n",
              "      <td>2</td>\n",
              "      <td>...</td>\n",
              "      <td>No Deposit</td>\n",
              "      <td>NaN</td>\n",
              "      <td>NaN</td>\n",
              "      <td>0</td>\n",
              "      <td>Transient</td>\n",
              "      <td>0.0</td>\n",
              "      <td>0</td>\n",
              "      <td>0</td>\n",
              "      <td>Check-Out</td>\n",
              "      <td>2015-07-01</td>\n",
              "    </tr>\n",
              "    <tr>\n",
              "      <th>2</th>\n",
              "      <td>Resort Hotel</td>\n",
              "      <td>0</td>\n",
              "      <td>7</td>\n",
              "      <td>2015</td>\n",
              "      <td>July</td>\n",
              "      <td>27</td>\n",
              "      <td>1</td>\n",
              "      <td>0</td>\n",
              "      <td>1</td>\n",
              "      <td>1</td>\n",
              "      <td>...</td>\n",
              "      <td>No Deposit</td>\n",
              "      <td>NaN</td>\n",
              "      <td>NaN</td>\n",
              "      <td>0</td>\n",
              "      <td>Transient</td>\n",
              "      <td>75.0</td>\n",
              "      <td>0</td>\n",
              "      <td>0</td>\n",
              "      <td>Check-Out</td>\n",
              "      <td>2015-07-02</td>\n",
              "    </tr>\n",
              "    <tr>\n",
              "      <th>3</th>\n",
              "      <td>Resort Hotel</td>\n",
              "      <td>0</td>\n",
              "      <td>13</td>\n",
              "      <td>2015</td>\n",
              "      <td>July</td>\n",
              "      <td>27</td>\n",
              "      <td>1</td>\n",
              "      <td>0</td>\n",
              "      <td>1</td>\n",
              "      <td>1</td>\n",
              "      <td>...</td>\n",
              "      <td>No Deposit</td>\n",
              "      <td>304.0</td>\n",
              "      <td>NaN</td>\n",
              "      <td>0</td>\n",
              "      <td>Transient</td>\n",
              "      <td>75.0</td>\n",
              "      <td>0</td>\n",
              "      <td>0</td>\n",
              "      <td>Check-Out</td>\n",
              "      <td>2015-07-02</td>\n",
              "    </tr>\n",
              "    <tr>\n",
              "      <th>4</th>\n",
              "      <td>Resort Hotel</td>\n",
              "      <td>0</td>\n",
              "      <td>14</td>\n",
              "      <td>2015</td>\n",
              "      <td>July</td>\n",
              "      <td>27</td>\n",
              "      <td>1</td>\n",
              "      <td>0</td>\n",
              "      <td>2</td>\n",
              "      <td>2</td>\n",
              "      <td>...</td>\n",
              "      <td>No Deposit</td>\n",
              "      <td>240.0</td>\n",
              "      <td>NaN</td>\n",
              "      <td>0</td>\n",
              "      <td>Transient</td>\n",
              "      <td>98.0</td>\n",
              "      <td>0</td>\n",
              "      <td>1</td>\n",
              "      <td>Check-Out</td>\n",
              "      <td>2015-07-03</td>\n",
              "    </tr>\n",
              "  </tbody>\n",
              "</table>\n",
              "<p>5 rows × 32 columns</p>\n",
              "</div>\n",
              "    <div class=\"colab-df-buttons\">\n",
              "\n",
              "  <div class=\"colab-df-container\">\n",
              "    <button class=\"colab-df-convert\" onclick=\"convertToInteractive('df-b06b4a05-4b5a-4f7e-b1e2-50ecac0f5afb')\"\n",
              "            title=\"Convert this dataframe to an interactive table.\"\n",
              "            style=\"display:none;\">\n",
              "\n",
              "  <svg xmlns=\"http://www.w3.org/2000/svg\" height=\"24px\" viewBox=\"0 -960 960 960\">\n",
              "    <path d=\"M120-120v-720h720v720H120Zm60-500h600v-160H180v160Zm220 220h160v-160H400v160Zm0 220h160v-160H400v160ZM180-400h160v-160H180v160Zm440 0h160v-160H620v160ZM180-180h160v-160H180v160Zm440 0h160v-160H620v160Z\"/>\n",
              "  </svg>\n",
              "    </button>\n",
              "\n",
              "  <style>\n",
              "    .colab-df-container {\n",
              "      display:flex;\n",
              "      gap: 12px;\n",
              "    }\n",
              "\n",
              "    .colab-df-convert {\n",
              "      background-color: #E8F0FE;\n",
              "      border: none;\n",
              "      border-radius: 50%;\n",
              "      cursor: pointer;\n",
              "      display: none;\n",
              "      fill: #1967D2;\n",
              "      height: 32px;\n",
              "      padding: 0 0 0 0;\n",
              "      width: 32px;\n",
              "    }\n",
              "\n",
              "    .colab-df-convert:hover {\n",
              "      background-color: #E2EBFA;\n",
              "      box-shadow: 0px 1px 2px rgba(60, 64, 67, 0.3), 0px 1px 3px 1px rgba(60, 64, 67, 0.15);\n",
              "      fill: #174EA6;\n",
              "    }\n",
              "\n",
              "    .colab-df-buttons div {\n",
              "      margin-bottom: 4px;\n",
              "    }\n",
              "\n",
              "    [theme=dark] .colab-df-convert {\n",
              "      background-color: #3B4455;\n",
              "      fill: #D2E3FC;\n",
              "    }\n",
              "\n",
              "    [theme=dark] .colab-df-convert:hover {\n",
              "      background-color: #434B5C;\n",
              "      box-shadow: 0px 1px 3px 1px rgba(0, 0, 0, 0.15);\n",
              "      filter: drop-shadow(0px 1px 2px rgba(0, 0, 0, 0.3));\n",
              "      fill: #FFFFFF;\n",
              "    }\n",
              "  </style>\n",
              "\n",
              "    <script>\n",
              "      const buttonEl =\n",
              "        document.querySelector('#df-b06b4a05-4b5a-4f7e-b1e2-50ecac0f5afb button.colab-df-convert');\n",
              "      buttonEl.style.display =\n",
              "        google.colab.kernel.accessAllowed ? 'block' : 'none';\n",
              "\n",
              "      async function convertToInteractive(key) {\n",
              "        const element = document.querySelector('#df-b06b4a05-4b5a-4f7e-b1e2-50ecac0f5afb');\n",
              "        const dataTable =\n",
              "          await google.colab.kernel.invokeFunction('convertToInteractive',\n",
              "                                                    [key], {});\n",
              "        if (!dataTable) return;\n",
              "\n",
              "        const docLinkHtml = 'Like what you see? Visit the ' +\n",
              "          '<a target=\"_blank\" href=https://colab.research.google.com/notebooks/data_table.ipynb>data table notebook</a>'\n",
              "          + ' to learn more about interactive tables.';\n",
              "        element.innerHTML = '';\n",
              "        dataTable['output_type'] = 'display_data';\n",
              "        await google.colab.output.renderOutput(dataTable, element);\n",
              "        const docLink = document.createElement('div');\n",
              "        docLink.innerHTML = docLinkHtml;\n",
              "        element.appendChild(docLink);\n",
              "      }\n",
              "    </script>\n",
              "  </div>\n",
              "\n",
              "\n",
              "<div id=\"df-769ff645-d5dc-435c-b893-11e952dd0f93\">\n",
              "  <button class=\"colab-df-quickchart\" onclick=\"quickchart('df-769ff645-d5dc-435c-b893-11e952dd0f93')\"\n",
              "            title=\"Suggest charts\"\n",
              "            style=\"display:none;\">\n",
              "\n",
              "<svg xmlns=\"http://www.w3.org/2000/svg\" height=\"24px\"viewBox=\"0 0 24 24\"\n",
              "     width=\"24px\">\n",
              "    <g>\n",
              "        <path d=\"M19 3H5c-1.1 0-2 .9-2 2v14c0 1.1.9 2 2 2h14c1.1 0 2-.9 2-2V5c0-1.1-.9-2-2-2zM9 17H7v-7h2v7zm4 0h-2V7h2v10zm4 0h-2v-4h2v4z\"/>\n",
              "    </g>\n",
              "</svg>\n",
              "  </button>\n",
              "\n",
              "<style>\n",
              "  .colab-df-quickchart {\n",
              "      --bg-color: #E8F0FE;\n",
              "      --fill-color: #1967D2;\n",
              "      --hover-bg-color: #E2EBFA;\n",
              "      --hover-fill-color: #174EA6;\n",
              "      --disabled-fill-color: #AAA;\n",
              "      --disabled-bg-color: #DDD;\n",
              "  }\n",
              "\n",
              "  [theme=dark] .colab-df-quickchart {\n",
              "      --bg-color: #3B4455;\n",
              "      --fill-color: #D2E3FC;\n",
              "      --hover-bg-color: #434B5C;\n",
              "      --hover-fill-color: #FFFFFF;\n",
              "      --disabled-bg-color: #3B4455;\n",
              "      --disabled-fill-color: #666;\n",
              "  }\n",
              "\n",
              "  .colab-df-quickchart {\n",
              "    background-color: var(--bg-color);\n",
              "    border: none;\n",
              "    border-radius: 50%;\n",
              "    cursor: pointer;\n",
              "    display: none;\n",
              "    fill: var(--fill-color);\n",
              "    height: 32px;\n",
              "    padding: 0;\n",
              "    width: 32px;\n",
              "  }\n",
              "\n",
              "  .colab-df-quickchart:hover {\n",
              "    background-color: var(--hover-bg-color);\n",
              "    box-shadow: 0 1px 2px rgba(60, 64, 67, 0.3), 0 1px 3px 1px rgba(60, 64, 67, 0.15);\n",
              "    fill: var(--button-hover-fill-color);\n",
              "  }\n",
              "\n",
              "  .colab-df-quickchart-complete:disabled,\n",
              "  .colab-df-quickchart-complete:disabled:hover {\n",
              "    background-color: var(--disabled-bg-color);\n",
              "    fill: var(--disabled-fill-color);\n",
              "    box-shadow: none;\n",
              "  }\n",
              "\n",
              "  .colab-df-spinner {\n",
              "    border: 2px solid var(--fill-color);\n",
              "    border-color: transparent;\n",
              "    border-bottom-color: var(--fill-color);\n",
              "    animation:\n",
              "      spin 1s steps(1) infinite;\n",
              "  }\n",
              "\n",
              "  @keyframes spin {\n",
              "    0% {\n",
              "      border-color: transparent;\n",
              "      border-bottom-color: var(--fill-color);\n",
              "      border-left-color: var(--fill-color);\n",
              "    }\n",
              "    20% {\n",
              "      border-color: transparent;\n",
              "      border-left-color: var(--fill-color);\n",
              "      border-top-color: var(--fill-color);\n",
              "    }\n",
              "    30% {\n",
              "      border-color: transparent;\n",
              "      border-left-color: var(--fill-color);\n",
              "      border-top-color: var(--fill-color);\n",
              "      border-right-color: var(--fill-color);\n",
              "    }\n",
              "    40% {\n",
              "      border-color: transparent;\n",
              "      border-right-color: var(--fill-color);\n",
              "      border-top-color: var(--fill-color);\n",
              "    }\n",
              "    60% {\n",
              "      border-color: transparent;\n",
              "      border-right-color: var(--fill-color);\n",
              "    }\n",
              "    80% {\n",
              "      border-color: transparent;\n",
              "      border-right-color: var(--fill-color);\n",
              "      border-bottom-color: var(--fill-color);\n",
              "    }\n",
              "    90% {\n",
              "      border-color: transparent;\n",
              "      border-bottom-color: var(--fill-color);\n",
              "    }\n",
              "  }\n",
              "</style>\n",
              "\n",
              "  <script>\n",
              "    async function quickchart(key) {\n",
              "      const quickchartButtonEl =\n",
              "        document.querySelector('#' + key + ' button');\n",
              "      quickchartButtonEl.disabled = true;  // To prevent multiple clicks.\n",
              "      quickchartButtonEl.classList.add('colab-df-spinner');\n",
              "      try {\n",
              "        const charts = await google.colab.kernel.invokeFunction(\n",
              "            'suggestCharts', [key], {});\n",
              "      } catch (error) {\n",
              "        console.error('Error during call to suggestCharts:', error);\n",
              "      }\n",
              "      quickchartButtonEl.classList.remove('colab-df-spinner');\n",
              "      quickchartButtonEl.classList.add('colab-df-quickchart-complete');\n",
              "    }\n",
              "    (() => {\n",
              "      let quickchartButtonEl =\n",
              "        document.querySelector('#df-769ff645-d5dc-435c-b893-11e952dd0f93 button');\n",
              "      quickchartButtonEl.style.display =\n",
              "        google.colab.kernel.accessAllowed ? 'block' : 'none';\n",
              "    })();\n",
              "  </script>\n",
              "</div>\n",
              "\n",
              "    </div>\n",
              "  </div>\n"
            ]
          },
          "metadata": {},
          "execution_count": 5
        }
      ]
    },
    {
      "cell_type": "code",
      "metadata": {
        "id": "9yCS5wxuNi19",
        "colab": {
          "base_uri": "https://localhost:8080/",
          "height": 342
        },
        "outputId": "46dadbf3-9f75-4b11-9100-1d1eb72398be"
      },
      "source": [
        "df.tail()\n"
      ],
      "execution_count": null,
      "outputs": [
        {
          "output_type": "execute_result",
          "data": {
            "text/plain": [
              "             hotel  is_canceled  lead_time  arrival_date_year  \\\n",
              "119385  City Hotel            0         23               2017   \n",
              "119386  City Hotel            0        102               2017   \n",
              "119387  City Hotel            0         34               2017   \n",
              "119388  City Hotel            0        109               2017   \n",
              "119389  City Hotel            0        205               2017   \n",
              "\n",
              "       arrival_date_month  arrival_date_week_number  \\\n",
              "119385             August                        35   \n",
              "119386             August                        35   \n",
              "119387             August                        35   \n",
              "119388             August                        35   \n",
              "119389             August                        35   \n",
              "\n",
              "        arrival_date_day_of_month  stays_in_weekend_nights  \\\n",
              "119385                         30                        2   \n",
              "119386                         31                        2   \n",
              "119387                         31                        2   \n",
              "119388                         31                        2   \n",
              "119389                         29                        2   \n",
              "\n",
              "        stays_in_week_nights  adults  ...  deposit_type  agent company  \\\n",
              "119385                     5       2  ...    No Deposit  394.0     NaN   \n",
              "119386                     5       3  ...    No Deposit    9.0     NaN   \n",
              "119387                     5       2  ...    No Deposit    9.0     NaN   \n",
              "119388                     5       2  ...    No Deposit   89.0     NaN   \n",
              "119389                     7       2  ...    No Deposit    9.0     NaN   \n",
              "\n",
              "       days_in_waiting_list customer_type     adr  \\\n",
              "119385                    0     Transient   96.14   \n",
              "119386                    0     Transient  225.43   \n",
              "119387                    0     Transient  157.71   \n",
              "119388                    0     Transient  104.40   \n",
              "119389                    0     Transient  151.20   \n",
              "\n",
              "        required_car_parking_spaces  total_of_special_requests  \\\n",
              "119385                            0                          0   \n",
              "119386                            0                          2   \n",
              "119387                            0                          4   \n",
              "119388                            0                          0   \n",
              "119389                            0                          2   \n",
              "\n",
              "        reservation_status reservation_status_date  \n",
              "119385           Check-Out              2017-09-06  \n",
              "119386           Check-Out              2017-09-07  \n",
              "119387           Check-Out              2017-09-07  \n",
              "119388           Check-Out              2017-09-07  \n",
              "119389           Check-Out              2017-09-07  \n",
              "\n",
              "[5 rows x 32 columns]"
            ],
            "text/html": [
              "\n",
              "  <div id=\"df-a6216c33-8413-4527-bb86-06e70d340459\" class=\"colab-df-container\">\n",
              "    <div>\n",
              "<style scoped>\n",
              "    .dataframe tbody tr th:only-of-type {\n",
              "        vertical-align: middle;\n",
              "    }\n",
              "\n",
              "    .dataframe tbody tr th {\n",
              "        vertical-align: top;\n",
              "    }\n",
              "\n",
              "    .dataframe thead th {\n",
              "        text-align: right;\n",
              "    }\n",
              "</style>\n",
              "<table border=\"1\" class=\"dataframe\">\n",
              "  <thead>\n",
              "    <tr style=\"text-align: right;\">\n",
              "      <th></th>\n",
              "      <th>hotel</th>\n",
              "      <th>is_canceled</th>\n",
              "      <th>lead_time</th>\n",
              "      <th>arrival_date_year</th>\n",
              "      <th>arrival_date_month</th>\n",
              "      <th>arrival_date_week_number</th>\n",
              "      <th>arrival_date_day_of_month</th>\n",
              "      <th>stays_in_weekend_nights</th>\n",
              "      <th>stays_in_week_nights</th>\n",
              "      <th>adults</th>\n",
              "      <th>...</th>\n",
              "      <th>deposit_type</th>\n",
              "      <th>agent</th>\n",
              "      <th>company</th>\n",
              "      <th>days_in_waiting_list</th>\n",
              "      <th>customer_type</th>\n",
              "      <th>adr</th>\n",
              "      <th>required_car_parking_spaces</th>\n",
              "      <th>total_of_special_requests</th>\n",
              "      <th>reservation_status</th>\n",
              "      <th>reservation_status_date</th>\n",
              "    </tr>\n",
              "  </thead>\n",
              "  <tbody>\n",
              "    <tr>\n",
              "      <th>119385</th>\n",
              "      <td>City Hotel</td>\n",
              "      <td>0</td>\n",
              "      <td>23</td>\n",
              "      <td>2017</td>\n",
              "      <td>August</td>\n",
              "      <td>35</td>\n",
              "      <td>30</td>\n",
              "      <td>2</td>\n",
              "      <td>5</td>\n",
              "      <td>2</td>\n",
              "      <td>...</td>\n",
              "      <td>No Deposit</td>\n",
              "      <td>394.0</td>\n",
              "      <td>NaN</td>\n",
              "      <td>0</td>\n",
              "      <td>Transient</td>\n",
              "      <td>96.14</td>\n",
              "      <td>0</td>\n",
              "      <td>0</td>\n",
              "      <td>Check-Out</td>\n",
              "      <td>2017-09-06</td>\n",
              "    </tr>\n",
              "    <tr>\n",
              "      <th>119386</th>\n",
              "      <td>City Hotel</td>\n",
              "      <td>0</td>\n",
              "      <td>102</td>\n",
              "      <td>2017</td>\n",
              "      <td>August</td>\n",
              "      <td>35</td>\n",
              "      <td>31</td>\n",
              "      <td>2</td>\n",
              "      <td>5</td>\n",
              "      <td>3</td>\n",
              "      <td>...</td>\n",
              "      <td>No Deposit</td>\n",
              "      <td>9.0</td>\n",
              "      <td>NaN</td>\n",
              "      <td>0</td>\n",
              "      <td>Transient</td>\n",
              "      <td>225.43</td>\n",
              "      <td>0</td>\n",
              "      <td>2</td>\n",
              "      <td>Check-Out</td>\n",
              "      <td>2017-09-07</td>\n",
              "    </tr>\n",
              "    <tr>\n",
              "      <th>119387</th>\n",
              "      <td>City Hotel</td>\n",
              "      <td>0</td>\n",
              "      <td>34</td>\n",
              "      <td>2017</td>\n",
              "      <td>August</td>\n",
              "      <td>35</td>\n",
              "      <td>31</td>\n",
              "      <td>2</td>\n",
              "      <td>5</td>\n",
              "      <td>2</td>\n",
              "      <td>...</td>\n",
              "      <td>No Deposit</td>\n",
              "      <td>9.0</td>\n",
              "      <td>NaN</td>\n",
              "      <td>0</td>\n",
              "      <td>Transient</td>\n",
              "      <td>157.71</td>\n",
              "      <td>0</td>\n",
              "      <td>4</td>\n",
              "      <td>Check-Out</td>\n",
              "      <td>2017-09-07</td>\n",
              "    </tr>\n",
              "    <tr>\n",
              "      <th>119388</th>\n",
              "      <td>City Hotel</td>\n",
              "      <td>0</td>\n",
              "      <td>109</td>\n",
              "      <td>2017</td>\n",
              "      <td>August</td>\n",
              "      <td>35</td>\n",
              "      <td>31</td>\n",
              "      <td>2</td>\n",
              "      <td>5</td>\n",
              "      <td>2</td>\n",
              "      <td>...</td>\n",
              "      <td>No Deposit</td>\n",
              "      <td>89.0</td>\n",
              "      <td>NaN</td>\n",
              "      <td>0</td>\n",
              "      <td>Transient</td>\n",
              "      <td>104.40</td>\n",
              "      <td>0</td>\n",
              "      <td>0</td>\n",
              "      <td>Check-Out</td>\n",
              "      <td>2017-09-07</td>\n",
              "    </tr>\n",
              "    <tr>\n",
              "      <th>119389</th>\n",
              "      <td>City Hotel</td>\n",
              "      <td>0</td>\n",
              "      <td>205</td>\n",
              "      <td>2017</td>\n",
              "      <td>August</td>\n",
              "      <td>35</td>\n",
              "      <td>29</td>\n",
              "      <td>2</td>\n",
              "      <td>7</td>\n",
              "      <td>2</td>\n",
              "      <td>...</td>\n",
              "      <td>No Deposit</td>\n",
              "      <td>9.0</td>\n",
              "      <td>NaN</td>\n",
              "      <td>0</td>\n",
              "      <td>Transient</td>\n",
              "      <td>151.20</td>\n",
              "      <td>0</td>\n",
              "      <td>2</td>\n",
              "      <td>Check-Out</td>\n",
              "      <td>2017-09-07</td>\n",
              "    </tr>\n",
              "  </tbody>\n",
              "</table>\n",
              "<p>5 rows × 32 columns</p>\n",
              "</div>\n",
              "    <div class=\"colab-df-buttons\">\n",
              "\n",
              "  <div class=\"colab-df-container\">\n",
              "    <button class=\"colab-df-convert\" onclick=\"convertToInteractive('df-a6216c33-8413-4527-bb86-06e70d340459')\"\n",
              "            title=\"Convert this dataframe to an interactive table.\"\n",
              "            style=\"display:none;\">\n",
              "\n",
              "  <svg xmlns=\"http://www.w3.org/2000/svg\" height=\"24px\" viewBox=\"0 -960 960 960\">\n",
              "    <path d=\"M120-120v-720h720v720H120Zm60-500h600v-160H180v160Zm220 220h160v-160H400v160Zm0 220h160v-160H400v160ZM180-400h160v-160H180v160Zm440 0h160v-160H620v160ZM180-180h160v-160H180v160Zm440 0h160v-160H620v160Z\"/>\n",
              "  </svg>\n",
              "    </button>\n",
              "\n",
              "  <style>\n",
              "    .colab-df-container {\n",
              "      display:flex;\n",
              "      gap: 12px;\n",
              "    }\n",
              "\n",
              "    .colab-df-convert {\n",
              "      background-color: #E8F0FE;\n",
              "      border: none;\n",
              "      border-radius: 50%;\n",
              "      cursor: pointer;\n",
              "      display: none;\n",
              "      fill: #1967D2;\n",
              "      height: 32px;\n",
              "      padding: 0 0 0 0;\n",
              "      width: 32px;\n",
              "    }\n",
              "\n",
              "    .colab-df-convert:hover {\n",
              "      background-color: #E2EBFA;\n",
              "      box-shadow: 0px 1px 2px rgba(60, 64, 67, 0.3), 0px 1px 3px 1px rgba(60, 64, 67, 0.15);\n",
              "      fill: #174EA6;\n",
              "    }\n",
              "\n",
              "    .colab-df-buttons div {\n",
              "      margin-bottom: 4px;\n",
              "    }\n",
              "\n",
              "    [theme=dark] .colab-df-convert {\n",
              "      background-color: #3B4455;\n",
              "      fill: #D2E3FC;\n",
              "    }\n",
              "\n",
              "    [theme=dark] .colab-df-convert:hover {\n",
              "      background-color: #434B5C;\n",
              "      box-shadow: 0px 1px 3px 1px rgba(0, 0, 0, 0.15);\n",
              "      filter: drop-shadow(0px 1px 2px rgba(0, 0, 0, 0.3));\n",
              "      fill: #FFFFFF;\n",
              "    }\n",
              "  </style>\n",
              "\n",
              "    <script>\n",
              "      const buttonEl =\n",
              "        document.querySelector('#df-a6216c33-8413-4527-bb86-06e70d340459 button.colab-df-convert');\n",
              "      buttonEl.style.display =\n",
              "        google.colab.kernel.accessAllowed ? 'block' : 'none';\n",
              "\n",
              "      async function convertToInteractive(key) {\n",
              "        const element = document.querySelector('#df-a6216c33-8413-4527-bb86-06e70d340459');\n",
              "        const dataTable =\n",
              "          await google.colab.kernel.invokeFunction('convertToInteractive',\n",
              "                                                    [key], {});\n",
              "        if (!dataTable) return;\n",
              "\n",
              "        const docLinkHtml = 'Like what you see? Visit the ' +\n",
              "          '<a target=\"_blank\" href=https://colab.research.google.com/notebooks/data_table.ipynb>data table notebook</a>'\n",
              "          + ' to learn more about interactive tables.';\n",
              "        element.innerHTML = '';\n",
              "        dataTable['output_type'] = 'display_data';\n",
              "        await google.colab.output.renderOutput(dataTable, element);\n",
              "        const docLink = document.createElement('div');\n",
              "        docLink.innerHTML = docLinkHtml;\n",
              "        element.appendChild(docLink);\n",
              "      }\n",
              "    </script>\n",
              "  </div>\n",
              "\n",
              "\n",
              "<div id=\"df-f74b3923-cdea-4a82-8d6a-823df17ec220\">\n",
              "  <button class=\"colab-df-quickchart\" onclick=\"quickchart('df-f74b3923-cdea-4a82-8d6a-823df17ec220')\"\n",
              "            title=\"Suggest charts\"\n",
              "            style=\"display:none;\">\n",
              "\n",
              "<svg xmlns=\"http://www.w3.org/2000/svg\" height=\"24px\"viewBox=\"0 0 24 24\"\n",
              "     width=\"24px\">\n",
              "    <g>\n",
              "        <path d=\"M19 3H5c-1.1 0-2 .9-2 2v14c0 1.1.9 2 2 2h14c1.1 0 2-.9 2-2V5c0-1.1-.9-2-2-2zM9 17H7v-7h2v7zm4 0h-2V7h2v10zm4 0h-2v-4h2v4z\"/>\n",
              "    </g>\n",
              "</svg>\n",
              "  </button>\n",
              "\n",
              "<style>\n",
              "  .colab-df-quickchart {\n",
              "      --bg-color: #E8F0FE;\n",
              "      --fill-color: #1967D2;\n",
              "      --hover-bg-color: #E2EBFA;\n",
              "      --hover-fill-color: #174EA6;\n",
              "      --disabled-fill-color: #AAA;\n",
              "      --disabled-bg-color: #DDD;\n",
              "  }\n",
              "\n",
              "  [theme=dark] .colab-df-quickchart {\n",
              "      --bg-color: #3B4455;\n",
              "      --fill-color: #D2E3FC;\n",
              "      --hover-bg-color: #434B5C;\n",
              "      --hover-fill-color: #FFFFFF;\n",
              "      --disabled-bg-color: #3B4455;\n",
              "      --disabled-fill-color: #666;\n",
              "  }\n",
              "\n",
              "  .colab-df-quickchart {\n",
              "    background-color: var(--bg-color);\n",
              "    border: none;\n",
              "    border-radius: 50%;\n",
              "    cursor: pointer;\n",
              "    display: none;\n",
              "    fill: var(--fill-color);\n",
              "    height: 32px;\n",
              "    padding: 0;\n",
              "    width: 32px;\n",
              "  }\n",
              "\n",
              "  .colab-df-quickchart:hover {\n",
              "    background-color: var(--hover-bg-color);\n",
              "    box-shadow: 0 1px 2px rgba(60, 64, 67, 0.3), 0 1px 3px 1px rgba(60, 64, 67, 0.15);\n",
              "    fill: var(--button-hover-fill-color);\n",
              "  }\n",
              "\n",
              "  .colab-df-quickchart-complete:disabled,\n",
              "  .colab-df-quickchart-complete:disabled:hover {\n",
              "    background-color: var(--disabled-bg-color);\n",
              "    fill: var(--disabled-fill-color);\n",
              "    box-shadow: none;\n",
              "  }\n",
              "\n",
              "  .colab-df-spinner {\n",
              "    border: 2px solid var(--fill-color);\n",
              "    border-color: transparent;\n",
              "    border-bottom-color: var(--fill-color);\n",
              "    animation:\n",
              "      spin 1s steps(1) infinite;\n",
              "  }\n",
              "\n",
              "  @keyframes spin {\n",
              "    0% {\n",
              "      border-color: transparent;\n",
              "      border-bottom-color: var(--fill-color);\n",
              "      border-left-color: var(--fill-color);\n",
              "    }\n",
              "    20% {\n",
              "      border-color: transparent;\n",
              "      border-left-color: var(--fill-color);\n",
              "      border-top-color: var(--fill-color);\n",
              "    }\n",
              "    30% {\n",
              "      border-color: transparent;\n",
              "      border-left-color: var(--fill-color);\n",
              "      border-top-color: var(--fill-color);\n",
              "      border-right-color: var(--fill-color);\n",
              "    }\n",
              "    40% {\n",
              "      border-color: transparent;\n",
              "      border-right-color: var(--fill-color);\n",
              "      border-top-color: var(--fill-color);\n",
              "    }\n",
              "    60% {\n",
              "      border-color: transparent;\n",
              "      border-right-color: var(--fill-color);\n",
              "    }\n",
              "    80% {\n",
              "      border-color: transparent;\n",
              "      border-right-color: var(--fill-color);\n",
              "      border-bottom-color: var(--fill-color);\n",
              "    }\n",
              "    90% {\n",
              "      border-color: transparent;\n",
              "      border-bottom-color: var(--fill-color);\n",
              "    }\n",
              "  }\n",
              "</style>\n",
              "\n",
              "  <script>\n",
              "    async function quickchart(key) {\n",
              "      const quickchartButtonEl =\n",
              "        document.querySelector('#' + key + ' button');\n",
              "      quickchartButtonEl.disabled = true;  // To prevent multiple clicks.\n",
              "      quickchartButtonEl.classList.add('colab-df-spinner');\n",
              "      try {\n",
              "        const charts = await google.colab.kernel.invokeFunction(\n",
              "            'suggestCharts', [key], {});\n",
              "      } catch (error) {\n",
              "        console.error('Error during call to suggestCharts:', error);\n",
              "      }\n",
              "      quickchartButtonEl.classList.remove('colab-df-spinner');\n",
              "      quickchartButtonEl.classList.add('colab-df-quickchart-complete');\n",
              "    }\n",
              "    (() => {\n",
              "      let quickchartButtonEl =\n",
              "        document.querySelector('#df-f74b3923-cdea-4a82-8d6a-823df17ec220 button');\n",
              "      quickchartButtonEl.style.display =\n",
              "        google.colab.kernel.accessAllowed ? 'block' : 'none';\n",
              "    })();\n",
              "  </script>\n",
              "</div>\n",
              "\n",
              "    </div>\n",
              "  </div>\n"
            ]
          },
          "metadata": {},
          "execution_count": 6
        }
      ]
    },
    {
      "cell_type": "code",
      "metadata": {
        "id": "wg2F5FcaNi1-",
        "colab": {
          "base_uri": "https://localhost:8080/"
        },
        "outputId": "26db8f50-3046-4140-cf49-a32f7683189c"
      },
      "source": [
        "df.info()\n"
      ],
      "execution_count": null,
      "outputs": [
        {
          "output_type": "stream",
          "name": "stdout",
          "text": [
            "<class 'pandas.core.frame.DataFrame'>\n",
            "RangeIndex: 119390 entries, 0 to 119389\n",
            "Data columns (total 32 columns):\n",
            " #   Column                          Non-Null Count   Dtype  \n",
            "---  ------                          --------------   -----  \n",
            " 0   hotel                           119390 non-null  object \n",
            " 1   is_canceled                     119390 non-null  int64  \n",
            " 2   lead_time                       119390 non-null  int64  \n",
            " 3   arrival_date_year               119390 non-null  int64  \n",
            " 4   arrival_date_month              119390 non-null  object \n",
            " 5   arrival_date_week_number        119390 non-null  int64  \n",
            " 6   arrival_date_day_of_month       119390 non-null  int64  \n",
            " 7   stays_in_weekend_nights         119390 non-null  int64  \n",
            " 8   stays_in_week_nights            119390 non-null  int64  \n",
            " 9   adults                          119390 non-null  int64  \n",
            " 10  children                        119386 non-null  float64\n",
            " 11  babies                          119390 non-null  int64  \n",
            " 12  meal                            119390 non-null  object \n",
            " 13  country                         118902 non-null  object \n",
            " 14  market_segment                  119390 non-null  object \n",
            " 15  distribution_channel            119390 non-null  object \n",
            " 16  is_repeated_guest               119390 non-null  int64  \n",
            " 17  previous_cancellations          119390 non-null  int64  \n",
            " 18  previous_bookings_not_canceled  119390 non-null  int64  \n",
            " 19  reserved_room_type              119390 non-null  object \n",
            " 20  assigned_room_type              119390 non-null  object \n",
            " 21  booking_changes                 119390 non-null  int64  \n",
            " 22  deposit_type                    119390 non-null  object \n",
            " 23  agent                           103050 non-null  float64\n",
            " 24  company                         6797 non-null    float64\n",
            " 25  days_in_waiting_list            119390 non-null  int64  \n",
            " 26  customer_type                   119390 non-null  object \n",
            " 27  adr                             119390 non-null  float64\n",
            " 28  required_car_parking_spaces     119390 non-null  int64  \n",
            " 29  total_of_special_requests       119390 non-null  int64  \n",
            " 30  reservation_status              119390 non-null  object \n",
            " 31  reservation_status_date         119390 non-null  object \n",
            "dtypes: float64(4), int64(16), object(12)\n",
            "memory usage: 29.1+ MB\n"
          ]
        }
      ]
    },
    {
      "cell_type": "code",
      "metadata": {
        "id": "uBPOHXoiNi1_",
        "colab": {
          "base_uri": "https://localhost:8080/"
        },
        "outputId": "5c05b489-fb4f-42bf-aa18-752b8626d085"
      },
      "source": [
        "df.shape\n"
      ],
      "execution_count": null,
      "outputs": [
        {
          "output_type": "execute_result",
          "data": {
            "text/plain": [
              "(119390, 32)"
            ]
          },
          "metadata": {},
          "execution_count": 8
        }
      ]
    },
    {
      "cell_type": "code",
      "metadata": {
        "id": "ttktNlvMNi1_",
        "colab": {
          "base_uri": "https://localhost:8080/"
        },
        "outputId": "61212f02-f7ac-479b-8830-0863956b9b07"
      },
      "source": [
        "df.columns\n"
      ],
      "execution_count": null,
      "outputs": [
        {
          "output_type": "execute_result",
          "data": {
            "text/plain": [
              "Index(['hotel', 'is_canceled', 'lead_time', 'arrival_date_year',\n",
              "       'arrival_date_month', 'arrival_date_week_number',\n",
              "       'arrival_date_day_of_month', 'stays_in_weekend_nights',\n",
              "       'stays_in_week_nights', 'adults', 'children', 'babies', 'meal',\n",
              "       'country', 'market_segment', 'distribution_channel',\n",
              "       'is_repeated_guest', 'previous_cancellations',\n",
              "       'previous_bookings_not_canceled', 'reserved_room_type',\n",
              "       'assigned_room_type', 'booking_changes', 'deposit_type', 'agent',\n",
              "       'company', 'days_in_waiting_list', 'customer_type', 'adr',\n",
              "       'required_car_parking_spaces', 'total_of_special_requests',\n",
              "       'reservation_status', 'reservation_status_date'],\n",
              "      dtype='object')"
            ]
          },
          "metadata": {},
          "execution_count": 9
        }
      ]
    },
    {
      "cell_type": "markdown",
      "metadata": {
        "id": "BJsq9LWBNi2A"
      },
      "source": [
        "- Missing values in agent, children, country and company columns (We can see that from the non null count)"
      ]
    },
    {
      "cell_type": "markdown",
      "metadata": {
        "id": "nXeR1-qjNi2B"
      },
      "source": [
        "## 1.2 Exploratory data analysis"
      ]
    },
    {
      "cell_type": "markdown",
      "source": [
        "### Question 2: Check for missing Values\n",
        "\n",
        " Missing data can affect your analysis and models. Determine if any columns have missing values and decide how to handle them."
      ],
      "metadata": {
        "id": "5IJdch6he9IT"
      }
    },
    {
      "cell_type": "code",
      "source": [
        "print(df.isnull().sum())\n",
        "   # Count of missing values in each column\n"
      ],
      "metadata": {
        "id": "c8KLsL1OfLbB",
        "colab": {
          "base_uri": "https://localhost:8080/"
        },
        "outputId": "3d045694-3a76-4fee-e2b4-07f3f672250e"
      },
      "execution_count": null,
      "outputs": [
        {
          "output_type": "stream",
          "name": "stdout",
          "text": [
            "hotel                                  0\n",
            "is_canceled                            0\n",
            "lead_time                              0\n",
            "arrival_date_year                      0\n",
            "arrival_date_month                     0\n",
            "arrival_date_week_number               0\n",
            "arrival_date_day_of_month              0\n",
            "stays_in_weekend_nights                0\n",
            "stays_in_week_nights                   0\n",
            "adults                                 0\n",
            "children                               4\n",
            "babies                                 0\n",
            "meal                                   0\n",
            "country                              488\n",
            "market_segment                         0\n",
            "distribution_channel                   0\n",
            "is_repeated_guest                      0\n",
            "previous_cancellations                 0\n",
            "previous_bookings_not_canceled         0\n",
            "reserved_room_type                     0\n",
            "assigned_room_type                     0\n",
            "booking_changes                        0\n",
            "deposit_type                           0\n",
            "agent                              16340\n",
            "company                           112593\n",
            "days_in_waiting_list                   0\n",
            "customer_type                          0\n",
            "adr                                    0\n",
            "required_car_parking_spaces            0\n",
            "total_of_special_requests              0\n",
            "reservation_status                     0\n",
            "reservation_status_date                0\n",
            "dtype: int64\n"
          ]
        }
      ]
    },
    {
      "cell_type": "markdown",
      "source": [
        "### Question 3: Explore descriptive statistics"
      ],
      "metadata": {
        "id": "ZM89hqPIfR6e"
      }
    },
    {
      "cell_type": "code",
      "source": [
        " print(df.describe()) # Summary statistics for numerical columns\n"
      ],
      "metadata": {
        "id": "znf0BOUafUoE",
        "colab": {
          "base_uri": "https://localhost:8080/"
        },
        "outputId": "92b695b0-e83b-421a-9b67-e4a596b9a205"
      },
      "execution_count": null,
      "outputs": [
        {
          "output_type": "stream",
          "name": "stdout",
          "text": [
            "         is_canceled      lead_time  arrival_date_year  \\\n",
            "count  119390.000000  119390.000000      119390.000000   \n",
            "mean        0.370416     104.011416        2016.156554   \n",
            "std         0.482918     106.863097           0.707476   \n",
            "min         0.000000       0.000000        2015.000000   \n",
            "25%         0.000000      18.000000        2016.000000   \n",
            "50%         0.000000      69.000000        2016.000000   \n",
            "75%         1.000000     160.000000        2017.000000   \n",
            "max         1.000000     737.000000        2017.000000   \n",
            "\n",
            "       arrival_date_week_number  arrival_date_day_of_month  \\\n",
            "count             119390.000000              119390.000000   \n",
            "mean                  27.165173                  15.798241   \n",
            "std                   13.605138                   8.780829   \n",
            "min                    1.000000                   1.000000   \n",
            "25%                   16.000000                   8.000000   \n",
            "50%                   28.000000                  16.000000   \n",
            "75%                   38.000000                  23.000000   \n",
            "max                   53.000000                  31.000000   \n",
            "\n",
            "       stays_in_weekend_nights  stays_in_week_nights         adults  \\\n",
            "count            119390.000000         119390.000000  119390.000000   \n",
            "mean                  0.927599              2.500302       1.856403   \n",
            "std                   0.998613              1.908286       0.579261   \n",
            "min                   0.000000              0.000000       0.000000   \n",
            "25%                   0.000000              1.000000       2.000000   \n",
            "50%                   1.000000              2.000000       2.000000   \n",
            "75%                   2.000000              3.000000       2.000000   \n",
            "max                  19.000000             50.000000      55.000000   \n",
            "\n",
            "            children         babies  is_repeated_guest  \\\n",
            "count  119386.000000  119390.000000      119390.000000   \n",
            "mean        0.103890       0.007949           0.031912   \n",
            "std         0.398561       0.097436           0.175767   \n",
            "min         0.000000       0.000000           0.000000   \n",
            "25%         0.000000       0.000000           0.000000   \n",
            "50%         0.000000       0.000000           0.000000   \n",
            "75%         0.000000       0.000000           0.000000   \n",
            "max        10.000000      10.000000           1.000000   \n",
            "\n",
            "       previous_cancellations  previous_bookings_not_canceled  \\\n",
            "count           119390.000000                   119390.000000   \n",
            "mean                 0.087118                        0.137097   \n",
            "std                  0.844336                        1.497437   \n",
            "min                  0.000000                        0.000000   \n",
            "25%                  0.000000                        0.000000   \n",
            "50%                  0.000000                        0.000000   \n",
            "75%                  0.000000                        0.000000   \n",
            "max                 26.000000                       72.000000   \n",
            "\n",
            "       booking_changes          agent      company  days_in_waiting_list  \\\n",
            "count    119390.000000  103050.000000  6797.000000         119390.000000   \n",
            "mean          0.221124      86.693382   189.266735              2.321149   \n",
            "std           0.652306     110.774548   131.655015             17.594721   \n",
            "min           0.000000       1.000000     6.000000              0.000000   \n",
            "25%           0.000000       9.000000    62.000000              0.000000   \n",
            "50%           0.000000      14.000000   179.000000              0.000000   \n",
            "75%           0.000000     229.000000   270.000000              0.000000   \n",
            "max          21.000000     535.000000   543.000000            391.000000   \n",
            "\n",
            "                 adr  required_car_parking_spaces  total_of_special_requests  \n",
            "count  119390.000000                119390.000000              119390.000000  \n",
            "mean      101.831122                     0.062518                   0.571363  \n",
            "std        50.535790                     0.245291                   0.792798  \n",
            "min        -6.380000                     0.000000                   0.000000  \n",
            "25%        69.290000                     0.000000                   0.000000  \n",
            "50%        94.575000                     0.000000                   0.000000  \n",
            "75%       126.000000                     0.000000                   1.000000  \n",
            "max      5400.000000                     8.000000                   5.000000  \n"
          ]
        }
      ]
    },
    {
      "cell_type": "markdown",
      "source": [
        "### Question 4: Data Visualization"
      ],
      "metadata": {
        "id": "m0FrovnZfbtT"
      }
    },
    {
      "cell_type": "code",
      "source": [
        "import matplotlib.pyplot as plt\n",
        "\n",
        "# Histogram for \"required_car_parking_spaces\" column\n",
        "plt.hist(df['required_car_parking_spaces'], bins=20)\n",
        "plt.xlabel('Required_car_parking_spaces')\n",
        "plt.xlabel('Count')\n",
        "plt.title('Required_car_parking_spaces')\n",
        "plt.show()\n",
        "\n",
        "\n",
        "\n",
        "\n",
        "\n",
        "# Bar plot for \"is_canceled\" column\n",
        "\n",
        "canceled_counts = df['is_canceled'].value_counts()\n",
        "labels = ['Did not canceled', 'canceled']\n",
        "\n",
        "\n",
        "plt.bar(labels, canceled_counts )\n",
        "plt.xlabel('is_canceled')\n",
        "plt.xlabel('count')\n",
        "plt.title('canceled_count')\n",
        "plt.show()\n",
        "\n",
        "\n"
      ],
      "metadata": {
        "id": "0CUreXf1mqeg",
        "colab": {
          "base_uri": "https://localhost:8080/",
          "height": 927
        },
        "outputId": "2bf1f042-dc87-40fb-8151-7511dd5f26ce"
      },
      "execution_count": null,
      "outputs": [
        {
          "output_type": "display_data",
          "data": {
            "text/plain": [
              "<Figure size 640x480 with 1 Axes>"
            ],
            "image/png": "[encoded data removed]"
          },
          "metadata": {}
        },
        {
          "output_type": "display_data",
          "data": {
            "text/plain": [
              "<Figure size 640x480 with 1 Axes>"
            ],
            "image/png": "[encoded data removed]"
          },
          "metadata": {}
        }
      ]
    },
    {
      "cell_type": "markdown",
      "source": [
        "## 1.3 Cleaning"
      ],
      "metadata": {
        "id": "aew0aHNCf_4k"
      }
    },
    {
      "cell_type": "markdown",
      "source": [
        "### Question 5: Handling Missing Values"
      ],
      "metadata": {
        "id": "5GMF3ltFgwvm"
      }
    },
    {
      "cell_type": "code",
      "source": [
        "# Create a copy of the DataFrame\n",
        "df_copy = df.copy()\n",
        "\n",
        "# Option 1: Remove rows with missing values\n",
        "\n",
        "df_copy_dropped = df_copy.dropna()\n",
        "\n",
        "\n",
        "# Option 2: Impute missing values\n",
        "# Fill missing values with a specific value\n",
        "df_copy_filled = df_copy.fillna(0)\n",
        "\n",
        "\n",
        "\n",
        "# Fill missing values with the mean value of the column\n",
        "\n",
        "df_copy_mean = df_copy.fillna(df_copy.mean())\n",
        "\n",
        "\n",
        "# Option 3: Drop columns with excessive missing data\n",
        "# Set a threshold for the percentage of missing values in a column\n",
        "threshold = 0.5  # Example threshold of 50%\n",
        "df_copy_dropped_cols = df_copy.dropna(thresh=threshold*len(df_copy), axis=1)\n",
        "\n",
        "# Print the modified DataFrames\n",
        "#print(\"DataFrame with dropped rows:\\n\", df_copy_dropped)\n",
        "#print(\"DataFrame with filled missing values:\\n\", df_copy_filled)\n",
        "#print(\"DataFrame with filled missing values using mean:\\n\", df_copy_mean)\n"
      ],
      "metadata": {
        "id": "pe8JZOfPghj_",
        "colab": {
          "base_uri": "https://localhost:8080/"
        },
        "outputId": "7457ee7b-5872-4445-e67a-762ec732f1ad"
      },
      "execution_count": null,
      "outputs": [
        {
          "output_type": "stream",
          "name": "stderr",
          "text": [
            "<ipython-input-24-d6ecfa86ef74>:17: FutureWarning: The default value of numeric_only in DataFrame.mean is deprecated. In a future version, it will default to False. In addition, specifying 'numeric_only=None' is deprecated. Select only valid columns or specify the value of numeric_only to silence this warning.\n",
            "  df_copy_mean = df_copy.fillna(df_copy.mean())\n"
          ]
        }
      ]
    },
    {
      "cell_type": "code",
      "source": [
        "print(\"DataFrame with dropped rows:\\n\", df_copy_dropped)"
      ],
      "metadata": {
        "id": "WWoqHghTuN3s"
      },
      "execution_count": null,
      "outputs": []
    },
    {
      "cell_type": "code",
      "source": [
        "print(\"DataFrame with filled missing values:\\n\", df_copy_filled)"
      ],
      "metadata": {
        "id": "rN_DHT19uNqT"
      },
      "execution_count": null,
      "outputs": []
    },
    {
      "cell_type": "code",
      "source": [
        "print(\"DataFrame with filled missing values using mean:\\n\", df_copy_mean)\n"
      ],
      "metadata": {
        "id": "JF_r-jQVuNX5"
      },
      "execution_count": null,
      "outputs": []
    },
    {
      "cell_type": "markdown",
      "source": [
        "### Data Types"
      ],
      "metadata": {
        "id": "1_ybKxh1gzoG"
      }
    },
    {
      "cell_type": "markdown",
      "metadata": {
        "id": "Q__DS0hHNi2B"
      },
      "source": [
        "Check Unique Values for df column to know whether column type is correct or not"
      ]
    },
    {
      "cell_type": "code",
      "metadata": {
        "id": "9K1TiRcANi2C",
        "colab": {
          "base_uri": "https://localhost:8080/"
        },
        "outputId": "844b0449-60eb-4213-a4f7-e01e48f7e45c"
      },
      "source": [
        "for i in df.columns:\n",
        "    x = df[i].value_counts()\n",
        "    print(\"Column name \",i,\" has different values of:\",len(x))"
      ],
      "execution_count": null,
      "outputs": [
        {
          "output_type": "stream",
          "name": "stdout",
          "text": [
            "Column name  hotel  has different values of: 2\n",
            "Column name  is_canceled  has different values of: 2\n",
            "Column name  lead_time  has different values of: 479\n",
            "Column name  arrival_date_year  has different values of: 3\n",
            "Column name  arrival_date_month  has different values of: 12\n",
            "Column name  arrival_date_week_number  has different values of: 53\n",
            "Column name  arrival_date_day_of_month  has different values of: 31\n",
            "Column name  stays_in_weekend_nights  has different values of: 17\n",
            "Column name  stays_in_week_nights  has different values of: 35\n",
            "Column name  adults  has different values of: 14\n",
            "Column name  children  has different values of: 5\n",
            "Column name  babies  has different values of: 5\n",
            "Column name  meal  has different values of: 5\n",
            "Column name  country  has different values of: 177\n",
            "Column name  market_segment  has different values of: 8\n",
            "Column name  distribution_channel  has different values of: 5\n",
            "Column name  is_repeated_guest  has different values of: 2\n",
            "Column name  previous_cancellations  has different values of: 15\n",
            "Column name  previous_bookings_not_canceled  has different values of: 73\n",
            "Column name  reserved_room_type  has different values of: 10\n",
            "Column name  assigned_room_type  has different values of: 12\n",
            "Column name  booking_changes  has different values of: 21\n",
            "Column name  deposit_type  has different values of: 3\n",
            "Column name  agent  has different values of: 333\n",
            "Column name  company  has different values of: 352\n",
            "Column name  days_in_waiting_list  has different values of: 128\n",
            "Column name  customer_type  has different values of: 4\n",
            "Column name  adr  has different values of: 8879\n",
            "Column name  required_car_parking_spaces  has different values of: 5\n",
            "Column name  total_of_special_requests  has different values of: 6\n",
            "Column name  reservation_status  has different values of: 3\n",
            "Column name  reservation_status_date  has different values of: 926\n"
          ]
        }
      ]
    },
    {
      "cell_type": "markdown",
      "metadata": {
        "id": "ebqaxRJkNi2C"
      },
      "source": [
        "According to the unqiue values per each column the following columns should be change to\n",
        "1. **categorical columns:**   mealType, country,market_segment,distribution_channel,reserved_room_type, assigned_room_type, customer_type,reservation_status,arrival_date_month, hotel, arrival_date_year\n",
        "2. **boolean:** is_canceled, is_repeated_guest\n",
        "3. **int:** children, agent, company, ...\n",
        "4. **date:** reservation_status_date"
      ]
    },
    {
      "cell_type": "markdown",
      "metadata": {
        "id": "bUy8rIqVNi2C"
      },
      "source": [
        "After knowing which columns represent categorical data, let's see the counts of each value in these columns"
      ]
    },
    {
      "cell_type": "code",
      "metadata": {
        "id": "GLUzbb0SNi2E",
        "colab": {
          "base_uri": "https://localhost:8080/"
        },
        "outputId": "e9c83f9a-0f4b-4c08-f42b-f55ca974e895"
      },
      "source": [
        "df_cat=df[['hotel','is_canceled','arrival_date_month','meal','country','market_segment','distribution_channel','is_repeated_guest','reserved_room_type','assigned_room_type','deposit_type','customer_type','reservation_status']]\n",
        "\n",
        "for i in df_cat.columns:\n",
        "    x = df_cat[i].value_counts()\n",
        "    print(\"Column name is:\",i,\"and its value counts are:\")\n",
        "    print(x)\n",
        "    print()"
      ],
      "execution_count": null,
      "outputs": [
        {
          "output_type": "stream",
          "name": "stdout",
          "text": [
            "Column name is: hotel and its value counts are:\n",
            "City Hotel      79330\n",
            "Resort Hotel    40060\n",
            "Name: hotel, dtype: int64\n",
            "\n",
            "Column name is: is_canceled and its value counts are:\n",
            "0    75166\n",
            "1    44224\n",
            "Name: is_canceled, dtype: int64\n",
            "\n",
            "Column name is: arrival_date_month and its value counts are:\n",
            "August       13877\n",
            "July         12661\n",
            "May          11791\n",
            "October      11160\n",
            "April        11089\n",
            "June         10939\n",
            "September    10508\n",
            "March         9794\n",
            "February      8068\n",
            "November      6794\n",
            "December      6780\n",
            "January       5929\n",
            "Name: arrival_date_month, dtype: int64\n",
            "\n",
            "Column name is: meal and its value counts are:\n",
            "BB           92310\n",
            "HB           14463\n",
            "SC           10650\n",
            "Undefined     1169\n",
            "FB             798\n",
            "Name: meal, dtype: int64\n",
            "\n",
            "Column name is: country and its value counts are:\n",
            "PRT    48590\n",
            "GBR    12129\n",
            "FRA    10415\n",
            "ESP     8568\n",
            "DEU     7287\n",
            "       ...  \n",
            "DJI        1\n",
            "BWA        1\n",
            "HND        1\n",
            "VGB        1\n",
            "NAM        1\n",
            "Name: country, Length: 177, dtype: int64\n",
            "\n",
            "Column name is: market_segment and its value counts are:\n",
            "Online TA        56477\n",
            "Offline TA/TO    24219\n",
            "Groups           19811\n",
            "Direct           12606\n",
            "Corporate         5295\n",
            "Complementary      743\n",
            "Aviation           237\n",
            "Undefined            2\n",
            "Name: market_segment, dtype: int64\n",
            "\n",
            "Column name is: distribution_channel and its value counts are:\n",
            "TA/TO        97870\n",
            "Direct       14645\n",
            "Corporate     6677\n",
            "GDS            193\n",
            "Undefined        5\n",
            "Name: distribution_channel, dtype: int64\n",
            "\n",
            "Column name is: is_repeated_guest and its value counts are:\n",
            "0    115580\n",
            "1      3810\n",
            "Name: is_repeated_guest, dtype: int64\n",
            "\n",
            "Column name is: reserved_room_type and its value counts are:\n",
            "A    85994\n",
            "D    19201\n",
            "E     6535\n",
            "F     2897\n",
            "G     2094\n",
            "B     1118\n",
            "C      932\n",
            "H      601\n",
            "P       12\n",
            "L        6\n",
            "Name: reserved_room_type, dtype: int64\n",
            "\n",
            "Column name is: assigned_room_type and its value counts are:\n",
            "A    74053\n",
            "D    25322\n",
            "E     7806\n",
            "F     3751\n",
            "G     2553\n",
            "C     2375\n",
            "B     2163\n",
            "H      712\n",
            "I      363\n",
            "K      279\n",
            "P       12\n",
            "L        1\n",
            "Name: assigned_room_type, dtype: int64\n",
            "\n",
            "Column name is: deposit_type and its value counts are:\n",
            "No Deposit    104641\n",
            "Non Refund     14587\n",
            "Refundable       162\n",
            "Name: deposit_type, dtype: int64\n",
            "\n",
            "Column name is: customer_type and its value counts are:\n",
            "Transient          89613\n",
            "Transient-Party    25124\n",
            "Contract            4076\n",
            "Group                577\n",
            "Name: customer_type, dtype: int64\n",
            "\n",
            "Column name is: reservation_status and its value counts are:\n",
            "Check-Out    75166\n",
            "Canceled     43017\n",
            "No-Show       1207\n",
            "Name: reservation_status, dtype: int64\n",
            "\n"
          ]
        }
      ]
    },
    {
      "cell_type": "markdown",
      "metadata": {
        "id": "bLoAvQaitY4u"
      },
      "source": [
        "The *category data type* in Python will continue to look like a string character to us and in many places will behave like a string (or object) type; however, it is internally being represented by integer values, unique to each category.\n",
        "\n",
        "Question 6: Here's how we change to the category dtype"
      ]
    },
    {
      "cell_type": "code",
      "metadata": {
        "id": "ik66kS2YNi2K",
        "colab": {
          "base_uri": "https://localhost:8080/"
        },
        "outputId": "2f155f15-442f-4a0a-8c1a-b58b013f9dd3"
      },
      "source": [
        "df_copy = df.copy()\n",
        "\n",
        "df_copy['is_canceled'] = df_copy['is_canceled'].astype(bool)\n",
        "df_copy['is_repeated_guest'] = df_copy['is_repeated_guest'].astype(bool)\n",
        "\n",
        "print(df_copy['is_canceled'])\n",
        "print(df_copy['is_repeated_guest'])"
      ],
      "execution_count": null,
      "outputs": [
        {
          "output_type": "stream",
          "name": "stdout",
          "text": [
            "0         False\n",
            "1         False\n",
            "2         False\n",
            "3         False\n",
            "4         False\n",
            "          ...  \n",
            "119385    False\n",
            "119386    False\n",
            "119387    False\n",
            "119388    False\n",
            "119389    False\n",
            "Name: is_canceled, Length: 119390, dtype: bool\n",
            "0         False\n",
            "1         False\n",
            "2         False\n",
            "3         False\n",
            "4         False\n",
            "          ...  \n",
            "119385    False\n",
            "119386    False\n",
            "119387    False\n",
            "119388    False\n",
            "119389    False\n",
            "Name: is_repeated_guest, Length: 119390, dtype: bool\n"
          ]
        }
      ]
    },
    {
      "cell_type": "markdown",
      "metadata": {
        "id": "3PHVGIXTQEdQ"
      },
      "source": [
        "Below, we confirm that the dtype has changed to category:"
      ]
    },
    {
      "cell_type": "code",
      "metadata": {
        "id": "Lu6HzkeYNi2K",
        "colab": {
          "base_uri": "https://localhost:8080/"
        },
        "outputId": "a2a4ed27-3b2b-4d4b-9d6c-2e2da34aa6a2"
      },
      "source": [
        "df_copy.info()"
      ],
      "execution_count": null,
      "outputs": [
        {
          "output_type": "stream",
          "name": "stdout",
          "text": [
            "<class 'pandas.core.frame.DataFrame'>\n",
            "RangeIndex: 119390 entries, 0 to 119389\n",
            "Data columns (total 32 columns):\n",
            " #   Column                          Non-Null Count   Dtype  \n",
            "---  ------                          --------------   -----  \n",
            " 0   hotel                           119390 non-null  object \n",
            " 1   is_canceled                     119390 non-null  bool   \n",
            " 2   lead_time                       119390 non-null  int64  \n",
            " 3   arrival_date_year               119390 non-null  int64  \n",
            " 4   arrival_date_month              119390 non-null  object \n",
            " 5   arrival_date_week_number        119390 non-null  int64  \n",
            " 6   arrival_date_day_of_month       119390 non-null  int64  \n",
            " 7   stays_in_weekend_nights         119390 non-null  int64  \n",
            " 8   stays_in_week_nights            119390 non-null  int64  \n",
            " 9   adults                          119390 non-null  int64  \n",
            " 10  children                        119386 non-null  float64\n",
            " 11  babies                          119390 non-null  int64  \n",
            " 12  meal                            119390 non-null  object \n",
            " 13  country                         118902 non-null  object \n",
            " 14  market_segment                  119390 non-null  object \n",
            " 15  distribution_channel            119390 non-null  object \n",
            " 16  is_repeated_guest               119390 non-null  bool   \n",
            " 17  previous_cancellations          119390 non-null  int64  \n",
            " 18  previous_bookings_not_canceled  119390 non-null  int64  \n",
            " 19  reserved_room_type              119390 non-null  object \n",
            " 20  assigned_room_type              119390 non-null  object \n",
            " 21  booking_changes                 119390 non-null  int64  \n",
            " 22  deposit_type                    119390 non-null  object \n",
            " 23  agent                           103050 non-null  float64\n",
            " 24  company                         6797 non-null    float64\n",
            " 25  days_in_waiting_list            119390 non-null  int64  \n",
            " 26  customer_type                   119390 non-null  object \n",
            " 27  adr                             119390 non-null  float64\n",
            " 28  required_car_parking_spaces     119390 non-null  int64  \n",
            " 29  total_of_special_requests       119390 non-null  int64  \n",
            " 30  reservation_status              119390 non-null  object \n",
            " 31  reservation_status_date         119390 non-null  object \n",
            "dtypes: bool(2), float64(4), int64(14), object(12)\n",
            "memory usage: 27.6+ MB\n"
          ]
        }
      ]
    },
    {
      "cell_type": "markdown",
      "source": [
        "## 1.4 Question 7: Feature Correlation"
      ],
      "metadata": {
        "id": "i3h1z12shBLI"
      }
    },
    {
      "cell_type": "code",
      "source": [
        "import matplotlib.pyplot as plt\n",
        "\n",
        "# Select the columns of interest\n",
        "columns_of_interest = ['lead_time', 'adr', 'required_car_parking_spaces']\n",
        "\n",
        "# Scatter plots\n",
        "\n",
        "plt.figure(figsize=(10,8))\n",
        "for i, column in enumerate(columns_of_interest):\n",
        "  plt.subplot(2, 2, i+1)\n",
        "  plt.scatter(df[column], df['is_canceled'])\n",
        "  plt.xlabel(column)\n",
        "  plt.ylabel('is_canceled')\n",
        "plt.tight_layout()\n",
        "plt.show()\n",
        "\n",
        "\n",
        "\n",
        "# Correlation heatmap\n",
        "\n",
        "correlation_matrix = df[columns_of_interest].corr()\n",
        "plt.figure(figsize=(8, 6))\n",
        "plt.imshow(correlation_matrix, cmap='coolwarm', interpolation='nearest')\n",
        "plt.colorbar()\n",
        "tick_marks = range(len(columns_of_interest))\n",
        "plt.xticks(tick_marks, columns_of_interest, rotation=45)\n",
        "plt.yticks(tick_marks, columns_of_interest)\n",
        "plt.title('Correlation Heatmap')\n",
        "plt.show()"
      ],
      "metadata": {
        "id": "wBFgTIp_t530",
        "colab": {
          "base_uri": "https://localhost:8080/",
          "height": 1000
        },
        "outputId": "1a19c190-85bd-4598-8602-ca4920f9e2c4"
      },
      "execution_count": null,
      "outputs": [
        {
          "output_type": "display_data",
          "data": {
            "text/plain": [
              "<Figure size 1000x800 with 3 Axes>"
            ],
            "image/png": "[encoded data removed]"
          },
          "metadata": {}
        },
        {
          "output_type": "display_data",
          "data": {
            "text/plain": [
              "<Figure size 800x600 with 2 Axes>"
            ],
            "image/png": "[encoded data removed]"
          },
          "metadata": {}
        }
      ]
    }
  ]
}